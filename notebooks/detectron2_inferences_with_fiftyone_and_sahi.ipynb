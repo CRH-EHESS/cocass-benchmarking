{
 "cells": [
  {
   "cell_type": "markdown",
   "metadata": {},
   "source": [
    "# Evaluation de modèle avec Fiftyone"
   ]
  },
  {
   "cell_type": "markdown",
   "metadata": {},
   "source": [
    "## Importations et Initialisation"
   ]
  },
  {
   "cell_type": "markdown",
   "metadata": {},
   "source": [
    "### Librairies"
   ]
  },
  {
   "cell_type": "code",
   "execution_count": null,
   "metadata": {},
   "outputs": [],
   "source": [
    "%load_ext autoreload\n",
    "%autoreload 1"
   ]
  },
  {
   "cell_type": "code",
   "execution_count": null,
   "metadata": {},
   "outputs": [],
   "source": [
    "from utils import init_notebook, predictions\n",
    "%aimport datasets, utils.predictions\n",
    "from utils.predictions import * \n",
    "\n",
    "import fiftyone as fo\n",
    "import sahi\n",
    "from sahi import AutoDetectionModel\n",
    "from sahi.predict import get_prediction, get_sliced_prediction\n",
    "import torch\n",
    "import pandas as pd\n",
    "import sys\n",
    "import os\n",
    "\n",
    "from pathlib import Path\n",
    "\n",
    "HOME = Path(os.getcwd()).parents[2]\n",
    "HOME\n",
    "\n",
    "print(\"torch available :\",torch.cuda.is_available())\n",
    "torch.cuda.empty_cache()"
   ]
  },
  {
   "cell_type": "markdown",
   "metadata": {},
   "source": [
    "### Datasets"
   ]
  },
  {
   "cell_type": "markdown",
   "metadata": {},
   "source": [
    "#### Roboflow"
   ]
  },
  {
   "cell_type": "code",
   "execution_count": null,
   "metadata": {},
   "outputs": [],
   "source": [
    "# from roboflow import Roboflow\n",
    "# rf = Roboflow(api_key=\"VsgwOHYfQtqRLRCUpPv7\")\n",
    "# project = rf.workspace(\"suttyworkspace\").project(\"cassini_800\")\n",
    "# version = project.version(1)\n",
    "# dataset = version.download(\"coco\")"
   ]
  },
  {
   "cell_type": "markdown",
   "metadata": {},
   "source": [
    "#### Fiftyone dataset"
   ]
  },
  {
   "cell_type": "code",
   "execution_count": null,
   "metadata": {},
   "outputs": [],
   "source": [
    "dataset = fo.Dataset.from_dir(\n",
    "    data_path=HOME/\"resources/datasets/coco_datasets/cocass_auvergne_v2/images\",  # path to the dataset\n",
    "    labels_path=HOME/\"resources/datasets/coco_datasets/cocass_auvergne_v2/coarse.json\",   # path to the labels/annotations file\n",
    "    dataset_type=fo.types.COCODetectionDataset, # the type of dataset to import\n",
    ")\n",
    "dataset\n",
    "\n",
    "# Les annotations sont nommées en tant que détections, nous les renommons\n",
    "#pour éviter les confusions\n",
    "dataset.rename_sample_field(\"detections\", \"annotations\")"
   ]
  },
  {
   "cell_type": "markdown",
   "metadata": {},
   "source": [
    "## Inférence sur les données pour l'évaluation\n",
    "Il y a plusieurs manières d'inférer sur les données. Soit en utilisant la méthode SAHI, ce qui est le plus adapté lorsqu'on prend en entrée une feuille entière.<br>\n",
    "Pour des crops de cartes (nous prenons pour le moment 1280x1280 px) il n'est probablement pas nécessaire de faire des slices des images."
   ]
  },
  {
   "cell_type": "markdown",
   "metadata": {},
   "source": [
    "### Instanciation du modèle de détection"
   ]
  },
  {
   "cell_type": "code",
   "execution_count": null,
   "metadata": {},
   "outputs": [],
   "source": [
    "model_path = \"../output/detectron2/faster_rcnn_v1.pth\"\n",
    "detection_model = AutoDetectionModel.from_pretrained(\n",
    "    model_type='detectron2',\n",
    "    #model=predictor,\n",
    "    model_path=model_path,\n",
    "    config_path=\"../models/detectron2/config.yaml\",\n",
    "    #category_remapping= {i: class_name for i, class_name in enumerate(dataset.get_classes('annotations'))},\n",
    "    confidence_threshold=0.5,\n",
    "    image_size=640,\n",
    "    device=\"cuda:0\", # or 'cuda:0'\n",
    ")"
   ]
  },
  {
   "cell_type": "markdown",
   "metadata": {},
   "source": [
    "### inferences"
   ]
  },
  {
   "cell_type": "code",
   "execution_count": null,
   "metadata": {},
   "outputs": [],
   "source": [
    "remapping={i: class_name for i, class_name in enumerate(dataset.get_classes('annotations'))}\n",
    "for sample in dataset.iter_samples(progress=True, autosave=True):\n",
    "    fo_predict_simple(detection_model,sample, \n",
    "        label_field=\"predictions\", \n",
    "        overlap_height_ratio=0.6, overlap_width_ratio=0.6)\n",
    "    for det in sample[\"predictions\"].detections:\n",
    "        det.label = remapping[int(det.label)]   "
   ]
  },
  {
   "cell_type": "code",
   "execution_count": null,
   "metadata": {},
   "outputs": [],
   "source": [
    "session = fo.launch_app(dataset, auto=False)\n",
    "session.open_tab()"
   ]
  }
 ],
 "metadata": {
  "kernelspec": {
   "display_name": "ehess_env",
   "language": "python",
   "name": "python3"
  },
  "language_info": {
   "codemirror_mode": {
    "name": "ipython",
    "version": 3
   },
   "file_extension": ".py",
   "mimetype": "text/x-python",
   "name": "python",
   "nbconvert_exporter": "python",
   "pygments_lexer": "ipython3",
   "version": "3.12.4"
  }
 },
 "nbformat": 4,
 "nbformat_minor": 2
}
