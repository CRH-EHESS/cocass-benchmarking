{
 "cells": [
  {
   "cell_type": "markdown",
   "metadata": {},
   "source": [
    "# Evaluation de modèle avec Fiftyone"
   ]
  },
  {
   "cell_type": "markdown",
   "metadata": {},
   "source": [
    "## Importations et Initialisation"
   ]
  },
  {
   "cell_type": "markdown",
   "metadata": {},
   "source": [
    "### Librairies"
   ]
  },
  {
   "cell_type": "code",
   "execution_count": null,
   "metadata": {},
   "outputs": [],
   "source": [
    "%load_ext autoreload\n",
    "%autoreload 1"
   ]
  },
  {
   "cell_type": "code",
   "execution_count": null,
   "metadata": {},
   "outputs": [],
   "source": [
    "from utils import init_notebook, yolo_evaluation, predictions\n",
    "%aimport datasets, utils.predictions\n",
    "from utils.predictions import * \n",
    "\n",
    "import fiftyone as fo\n",
    "import sahi\n",
    "from sahi import AutoDetectionModel\n",
    "import torch\n",
    "import pandas as pd\n",
    "import sys\n",
    "import os\n",
    "\n",
    "from pathlib import Path\n",
    "\n",
    "HOME = Path(os.getcwd()).parents[2]\n",
    "HOME\n",
    "\n",
    "print(\"torch available :\",torch.cuda.is_available())\n",
    "torch.cuda.empty_cache()"
   ]
  },
  {
   "cell_type": "markdown",
   "metadata": {},
   "source": [
    "### Datasets"
   ]
  },
  {
   "cell_type": "code",
   "execution_count": null,
   "metadata": {},
   "outputs": [],
   "source": [
    "dataset = fo.Dataset.from_dir(\n",
    "    data_path=\"../../resources/datasets/coco_datasets/cocass_auvergne_v2/images\",  # path to the dataset\n",
    "    labels_path=\"../../resources/datasets/coco_datasets/cocass_auvergne_v2/detailed.json\",   # path to the labels/annotations file\n",
    "    dataset_type=fo.types.COCODetectionDataset, # the type of dataset to import\n",
    ")\n",
    "dataset"
   ]
  },
  {
   "cell_type": "markdown",
   "metadata": {},
   "source": [
    "### Lancement de fiftyone"
   ]
  },
  {
   "cell_type": "code",
   "execution_count": null,
   "metadata": {},
   "outputs": [],
   "source": [
    "session = fo.launch_app(dataset, auto=False)\n",
    "session.open_tab()"
   ]
  },
  {
   "cell_type": "markdown",
   "metadata": {},
   "source": [
    "## Inférence sur les données pour l'évaluation\n",
    "Il y a plusieurs manières d'inférer sur les données. Soit en utilisant la méthode SAHI, ce qui est le plus adapté lorsqu'on prend en entrée une feuille entière.<br>\n",
    "Pour des crops de cartes (nous prenons pour le moment 1200x1200 px) il n'est probablement pas nécessaire de faire des slices des images."
   ]
  },
  {
   "cell_type": "markdown",
   "metadata": {},
   "source": [
    "### Instanciation du modèle de détection YOLO"
   ]
  },
  {
   "cell_type": "code",
   "execution_count": null,
   "metadata": {},
   "outputs": [],
   "source": [
    "model_name=\"yolov10x_yolass_2800multiple_15-patep_imgsz640_detailed\"\n",
    "\n",
    "detection_model = AutoDetectionModel.from_pretrained(\n",
    "    model_type=\"yolov8\",    #Type du modèle (celui qui a été finetuné)\n",
    "    model_path=\"outputs/yolo/yolov10x_yolass_2800multiple_15-patep_imgsz640_detailed4/weights/best.pt\",    #Chemin vers le modèle.\n",
    "    confidence_threshold=0.6,   #Seuil de confiance lors de la détection \n",
    "    #Plus le seuil de confiance est élevé, moins il y aura de détections mais plus elles seront précises\n",
    "    device=\"cuda:0\",  # to use the GPU\n",
    ")"
   ]
  },
  {
   "cell_type": "markdown",
   "metadata": {},
   "source": [
    "### Prédiction\n",
    "Les fonctions crées ci-dessous permettent de faire les prédictions sur les samples données en entrée et de ressortir un objet fiftyone sur lequel fonctionnent les fonctions d'évaluation."
   ]
  },
  {
   "cell_type": "code",
   "execution_count": null,
   "metadata": {},
   "outputs": [],
   "source": [
    "for sample in dataset.iter_samples(progress=True, autosave=True):\n",
    "    fo_predict_simple(detection_model,sample, \n",
    "        label_field=\"predictions\", \n",
    "        overlap_height_ratio=0.6, overlap_width_ratio=0.6)"
   ]
  },
  {
   "cell_type": "code",
   "execution_count": null,
   "metadata": {},
   "outputs": [],
   "source": [
    "session = fo.launch_app(dataset, auto=False)\n",
    "session.open_tab()"
   ]
  }
 ],
 "metadata": {
  "kernelspec": {
   "display_name": ".venv",
   "language": "python",
   "name": "python3"
  },
  "language_info": {
   "codemirror_mode": {
    "name": "ipython",
    "version": 3
   },
   "file_extension": ".py",
   "mimetype": "text/x-python",
   "name": "python",
   "nbconvert_exporter": "python",
   "pygments_lexer": "ipython3",
   "version": "3.12.4"
  }
 },
 "nbformat": 4,
 "nbformat_minor": 2
}
