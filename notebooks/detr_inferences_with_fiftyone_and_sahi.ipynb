{
 "cells": [
  {
   "cell_type": "markdown",
   "metadata": {},
   "source": [
    "# Evaluation de modèle avec Fiftyone"
   ]
  },
  {
   "cell_type": "markdown",
   "metadata": {},
   "source": [
    "## Importations et Initialisation"
   ]
  },
  {
   "cell_type": "markdown",
   "metadata": {},
   "source": [
    "### Librairies"
   ]
  },
  {
   "cell_type": "code",
   "execution_count": null,
   "metadata": {},
   "outputs": [],
   "source": [
    "%load_ext autoreload\n",
    "%autoreload 1"
   ]
  },
  {
   "cell_type": "code",
   "execution_count": null,
   "metadata": {},
   "outputs": [],
   "source": [
    "from utils import init_notebook, predictions\n",
    "%aimport datasets, utils.predictions\n",
    "from utils.predictions import * \n",
    "\n",
    "import fiftyone as fo\n",
    "from transformers import DetrForObjectDetection,DetrImageProcessor\n",
    "import sahi\n",
    "from sahi import AutoDetectionModel\n",
    "import torch\n",
    "import pandas as pd\n",
    "import sys\n",
    "import os\n",
    "\n",
    "from pathlib import Path\n",
    "\n",
    "HOME = Path(os.getcwd()).parents[2]\n",
    "HOME\n",
    "\n",
    "print(\"torch available :\",torch.cuda.is_available())\n",
    "torch.cuda.empty_cache()"
   ]
  },
  {
   "cell_type": "markdown",
   "metadata": {},
   "source": [
    "### Datasets"
   ]
  },
  {
   "cell_type": "markdown",
   "metadata": {},
   "source": [
    "#### Roboflow"
   ]
  },
  {
   "cell_type": "code",
   "execution_count": null,
   "metadata": {},
   "outputs": [],
   "source": [
    "# from roboflow import Roboflow\n",
    "# rf = Roboflow(api_key=\"VsgwOHYfQtqRLRCUpPv7\")\n",
    "# project = rf.workspace(\"suttyworkspace\").project(\"cassini_800\")\n",
    "# version = project.version(1)\n",
    "# dataset = version.download(\"coco\")"
   ]
  },
  {
   "cell_type": "markdown",
   "metadata": {},
   "source": [
    "#### Fiftyone dataset"
   ]
  },
  {
   "cell_type": "code",
   "execution_count": null,
   "metadata": {},
   "outputs": [],
   "source": [
    "dataset = fo.Dataset.from_dir(\n",
    "    data_path=HOME/\"resources/datasets/coco_datasets/cocass_auvergne_v2/images\",  # path to the dataset\n",
    "    labels_path=HOME/\"resources/datasets/coco_datasets/cocass_auvergne_v2/detailed.json\",   # path to the labels/annotations file\n",
    "    dataset_type=fo.types.COCODetectionDataset, # the type of dataset to import\n",
    ")\n",
    "dataset\n",
    "\n",
    "# Les annotations sont nommées en tant que détections, nous les renommons\n",
    "#pour éviter les confusions\n",
    "dataset.rename_sample_field(\"detections\", \"annotations\")"
   ]
  },
  {
   "cell_type": "markdown",
   "metadata": {},
   "source": [
    "## Inférence sur les données pour l'évaluation\n",
    "Il y a plusieurs manières d'inférer sur les données. Soit en utilisant la méthode SAHI, ce qui est le plus adapté lorsqu'on prend en entrée une feuille entière.<br>\n",
    "Pour des crops de cartes (nous prenons pour le moment 1200x1200 px) il n'est probablement pas nécessaire de faire des slices des images."
   ]
  },
  {
   "cell_type": "markdown",
   "metadata": {},
   "source": [
    "### Instanciation du modèle de détection"
   ]
  },
  {
   "cell_type": "code",
   "execution_count": null,
   "metadata": {},
   "outputs": [],
   "source": [
    "# settings\n",
    "DEVICE = torch.device('cuda:0' if torch.cuda.is_available() else 'cpu')\n",
    "CONFIDENCE_TRESHOLD = 0.5\n",
    "IOU_TRESHOLD = 0.7\n",
    "\n",
    "model_path=HOME/\"resources/models/detr/detr_coco7_2800\"\n",
    "\n",
    "CHECKPOINT = 'facebook/detr-resnet-152'\n",
    "\n",
    "image_processor = DetrImageProcessor.from_pretrained(CHECKPOINT)\n",
    "model=DetrForObjectDetection.from_pretrained(model_path)    # load the model from the checkpoint as a DEtrForObjectDetection model pretrained by the weights of the model_path\n",
    "#model = Detr(model)\n",
    "model.to(DEVICE)"
   ]
  },
  {
   "cell_type": "code",
   "execution_count": null,
   "metadata": {},
   "outputs": [],
   "source": [
    "detection_model = AutoDetectionModel.from_pretrained(\n",
    "    model_type=\"huggingface\",\n",
    "    #config_path=\"../../resources/models/detr/detr_coco7_2800/config.json\",\n",
    "    model=model,\n",
    "    processor=image_processor,\n",
    "    confidence_threshold=0.7,\n",
    "    device=\"cuda:0\", # or 'cuda:0'\n",
    ")\n",
    "type(detection_model)"
   ]
  },
  {
   "cell_type": "code",
   "execution_count": null,
   "metadata": {},
   "outputs": [],
   "source": [
    "for sample in dataset.iter_samples(progress=True, autosave=True):\n",
    "    fo_predict_simple(detection_model,sample, \n",
    "        label_field=\"predictions\", \n",
    "        overlap_height_ratio=0.6, overlap_width_ratio=0.6)"
   ]
  },
  {
   "cell_type": "code",
   "execution_count": null,
   "metadata": {},
   "outputs": [],
   "source": [
    "session = fo.launch_app(dataset, auto=False)\n",
    "session.open_tab()"
   ]
  }
 ],
 "metadata": {
  "kernelspec": {
   "display_name": "ehess_env",
   "language": "python",
   "name": "python3"
  },
  "language_info": {
   "codemirror_mode": {
    "name": "ipython",
    "version": 3
   },
   "file_extension": ".py",
   "mimetype": "text/x-python",
   "name": "python",
   "nbconvert_exporter": "python",
   "pygments_lexer": "ipython3",
   "version": "3.12.4"
  }
 },
 "nbformat": 4,
 "nbformat_minor": 2
}
